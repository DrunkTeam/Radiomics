{
  "nbformat": 4,
  "nbformat_minor": 0,
  "metadata": {
    "colab": {
      "provenance": []
    },
    "kernelspec": {
      "name": "python3",
      "display_name": "Python 3"
    },
    "language_info": {
      "name": "python"
    }
  },
  "cells": [
    {
      "cell_type": "markdown",
      "source": [
        "##VAE"
      ],
      "metadata": {
        "id": "70XAiGK71WYq"
      }
    },
    {
      "cell_type": "code",
      "source": [
        "from tqdm import tqdm\n",
        "import zipfile\n",
        "\n",
        "import torch\n",
        "import torch.nn as nn\n",
        "import torch.optim as optim\n",
        "from torchsummary import summary\n",
        "from torch.utils.data import TensorDataset, DataLoader\n",
        "\n",
        "import torchvision\n",
        "import torchvision.transforms as transforms\n",
        "import os\n",
        "\n",
        "import torch.nn.functional as F\n",
        "from torchvision import transforms\n",
        "from torchvision.utils import save_image\n",
        "\n",
        "device = torch.device(\"cuda:0\" if torch.cuda.is_available() else \"cpu\")"
      ],
      "metadata": {
        "id": "HD4IzDll2S79"
      },
      "execution_count": null,
      "outputs": []
    },
    {
      "cell_type": "code",
      "source": [
        "zip_file = '/content/without.zip'\n",
        "\n",
        "rootdir=zipfile.ZipFile(zip_file, 'r')\n",
        "rootdir.extractall()"
      ],
      "metadata": {
        "id": "1gVN1NMX21N1"
      },
      "execution_count": null,
      "outputs": []
    },
    {
      "cell_type": "code",
      "source": [
        "import os\n",
        "from PIL import Image\n",
        "import torch\n",
        "from torch.utils.data import Dataset, DataLoader\n",
        "from torchvision import transforms\n",
        "from sklearn.model_selection import train_test_split\n",
        "\n",
        "class CustomDataset(Dataset):\n",
        "    def __init__(self, folder_path, transform=None):\n",
        "        self.folder_path = folder_path\n",
        "        self.transform = transform\n",
        "        self.image_files = os.listdir(folder_path)\n",
        "\n",
        "    def __len__(self):\n",
        "        return len(self.image_files)\n",
        "\n",
        "    def __getitem__(self, idx):\n",
        "        if torch.is_tensor(idx):\n",
        "            idx = idx.tolist()\n",
        "\n",
        "        image_name = os.path.join(self.folder_path, self.image_files[idx])\n",
        "        image = Image.open(image_name)\n",
        "\n",
        "        if self.transform:\n",
        "            image = self.transform(image)\n",
        "\n",
        "        return image\n",
        "\n",
        "# Путь к папке с изображениями\n",
        "folder_path = \"/content/archive\"\n",
        "\n",
        "# Преобразования для предварительной обработки изображений\n",
        "transform = transforms.Compose([\n",
        "    transforms.Resize((256, 256)),\n",
        "    transforms.ToTensor(),\n",
        "])\n",
        "\n",
        "# Создание экземпляра Dataset и DataLoader\n",
        "custom_dataset = CustomDataset(folder_path, transform=transform)\n",
        "\n",
        "# Разделение данных на тренировочную и тестовую выборки\n",
        "train_data, test_data = train_test_split(custom_dataset, test_size=0.2, random_state=42)\n",
        "\n",
        "batchsize=64\n",
        "\n",
        "# Создание DataLoader для тренировочной и тестовой выборок\n",
        "trainloader = DataLoader(train_data, batch_size=batchsize, shuffle=True)\n",
        "testloader = DataLoader(test_data, batch_size=batchsize, shuffle=False)\n",
        "\n",
        "dataloader = DataLoader(custom_dataset, batch_size=batchsize, shuffle=True)"
      ],
      "metadata": {
        "id": "EB6UFc5R7jXq"
      },
      "execution_count": null,
      "outputs": []
    },
    {
      "cell_type": "code",
      "execution_count": null,
      "metadata": {
        "colab": {
          "base_uri": "https://localhost:8080/"
        },
        "id": "_A3By6ev1GEq",
        "outputId": "bb821ca2-3e28-4b5f-ff5c-cf330d4e6dc6"
      },
      "outputs": [
        {
          "output_type": "execute_result",
          "data": {
            "text/plain": [
              "VAE(\n",
              "  (conv1): Conv2d(1, 32, kernel_size=(4, 4), stride=(2, 2), padding=(1, 1))\n",
              "  (bn1): BatchNorm2d(32, eps=1e-05, momentum=0.1, affine=True, track_running_stats=True)\n",
              "  (relu1): ReLU(inplace=True)\n",
              "  (conv2): Conv2d(32, 64, kernel_size=(4, 4), stride=(2, 2), padding=(1, 1))\n",
              "  (bn2): BatchNorm2d(64, eps=1e-05, momentum=0.1, affine=True, track_running_stats=True)\n",
              "  (relu2): ReLU(inplace=True)\n",
              "  (conv3): Conv2d(64, 128, kernel_size=(4, 4), stride=(2, 2), padding=(1, 1))\n",
              "  (bn3): BatchNorm2d(128, eps=1e-05, momentum=0.1, affine=True, track_running_stats=True)\n",
              "  (relu3): ReLU(inplace=True)\n",
              "  (flatten): Flatten(start_dim=1, end_dim=-1)\n",
              "  (mu): Linear(in_features=131072, out_features=40, bias=True)\n",
              "  (std): Linear(in_features=131072, out_features=40, bias=True)\n",
              "  (fc): Linear(in_features=40, out_features=131072, bias=True)\n",
              "  (deconv1): ConvTranspose2d(128, 64, kernel_size=(4, 4), stride=(2, 2), padding=(1, 1))\n",
              "  (dec_bn1): BatchNorm2d(64, eps=1e-05, momentum=0.1, affine=True, track_running_stats=True)\n",
              "  (dec_relu1): ReLU(inplace=True)\n",
              "  (deconv2): ConvTranspose2d(64, 32, kernel_size=(4, 4), stride=(2, 2), padding=(1, 1))\n",
              "  (dec_bn2): BatchNorm2d(32, eps=1e-05, momentum=0.1, affine=True, track_running_stats=True)\n",
              "  (dec_relu2): ReLU(inplace=True)\n",
              "  (deconv3): ConvTranspose2d(32, 1, kernel_size=(4, 4), stride=(2, 2), padding=(1, 1))\n",
              "  (sigmoid): Sigmoid()\n",
              ")"
            ]
          },
          "metadata": {},
          "execution_count": 29
        }
      ],
      "source": [
        "## Template code\n",
        "## Write your code here\n",
        "# Convolution formula: ((n + 2p - f) / s) + 1\n",
        "class VAE(nn.Module):\n",
        "    def __init__(self):\n",
        "        super(VAE, self).__init__()\n",
        "        #Encoder part\n",
        "        self.conv1 = nn.Conv2d(1, 32, kernel_size=4, stride=2, padding=1) #256*256*1 -> 128*128*32\n",
        "        self.bn1=nn.BatchNorm2d(32)\n",
        "        self.relu1 = nn.ReLU(inplace=True)\n",
        "\n",
        "        self.conv2 = nn.Conv2d(32, 64, kernel_size=4, stride=2, padding=1) #128*128*32 -> 64*64*64\n",
        "        self.bn2=nn.BatchNorm2d(64)\n",
        "        self.relu2 = nn.ReLU(inplace=True)\n",
        "\n",
        "        self.conv3 = nn.Conv2d(64, 128, kernel_size=4, stride=2, padding=1) #64*64*64  -> 32*32*128\n",
        "        self.bn3=nn.BatchNorm2d(128)\n",
        "        self.relu3 = nn.ReLU(inplace=True)\n",
        "\n",
        "        self.flatten = nn.Flatten()\n",
        "\n",
        "        self.mu = nn.Linear(32*32*128, 40)  # 32*32*128\n",
        "        self.std = nn.Linear(32*32*128, 40)  # 32*32*128\n",
        "\n",
        "        # Decoder part\n",
        "        self.fc = nn.Linear(40, 32*32*128)\n",
        "        self.deconv1 = nn.ConvTranspose2d(128, 64, kernel_size=4, stride=2, padding=1)\n",
        "        self.dec_bn1 = nn.BatchNorm2d(64)\n",
        "        self.dec_relu1 = nn.ReLU(inplace=True)\n",
        "\n",
        "        self.deconv2 = nn.ConvTranspose2d(64, 32, kernel_size=4, stride=2, padding=1)\n",
        "        self.dec_bn2 = nn.BatchNorm2d(32)\n",
        "        self.dec_relu2 = nn.ReLU(inplace=True)\n",
        "\n",
        "        self.deconv3 = nn.ConvTranspose2d(32, 1, kernel_size=4, stride=2, padding=1)\n",
        "        self.sigmoid = nn.Sigmoid()\n",
        "\n",
        "    def reparameterize(self, mu, log_var):\n",
        "      std = torch.exp(log_var/2)#>=0\n",
        "      eps = torch.randn_like(std)\n",
        "      return mu + eps * std\n",
        "\n",
        "\n",
        "    def forward(self, x):\n",
        "      #Encoder part\n",
        "      x = self.relu1(self.bn1(self.conv1(x)))\n",
        "      x = self.relu2(self.bn2(self.conv2(x)))\n",
        "      x = self.relu3(self.bn3(self.conv3(x)))\n",
        "      x = self.flatten(x)\n",
        "      mu = self.mu(x)\n",
        "      logvar = self.std(x)\n",
        "\n",
        "      z = self.reparameterize(mu, logvar)\n",
        "\n",
        "      #Decoder part\n",
        "      x = self.fc(z)\n",
        "      x = x.view(x.size(0), 128, 32, 32)\n",
        "      x = self.dec_relu1(self.dec_bn1(self.deconv1(x)))\n",
        "      x = self.dec_relu2(self.dec_bn2(self.deconv2(x)))\n",
        "      recon_x = self.sigmoid(self.deconv3(x))\n",
        "      return recon_x, mu, logvar\n",
        "\n",
        "\n",
        "    def encode(self, x):\n",
        "      x = self.relu1(self.bn1(self.conv1(x)))\n",
        "      x = self.relu2(self.bn2(self.conv2(x)))\n",
        "      x = self.relu3(self.bn3(self.conv3(x)))\n",
        "      x = self.flatten(x)\n",
        "\n",
        "      mu = self.fc_mu(x)\n",
        "      logvar = self.fc_logvar(x)\n",
        "      return mu, logvar\n",
        "\n",
        "    def decode(self, z):\n",
        "      x = self.fc(z)\n",
        "      x = x.view(x.size(0), 128, 32, 32)\n",
        "      x = self.dec_relu1(self.dec_bn1(self.deconv1(x)))\n",
        "      x = self.dec_relu2(self.dec_bn2(self.deconv2(x)))\n",
        "      recon_x = self.sigmoid(self.deconv3(x))\n",
        "      return recon_x\n",
        "\n",
        "vae_model = VAE()\n",
        "vae_model"
      ]
    },
    {
      "cell_type": "code",
      "source": [
        "learning_rate=0.001\n",
        "optimizer = torch.optim.Adam(vae_model.parameters(), lr=learning_rate)\n",
        "num_epochs = 100\n",
        "\n",
        "mse_loss = nn.MSELoss(reduction='sum')\n",
        "\n",
        "# Start training\n",
        "for epoch in tqdm(range(num_epochs)):\n",
        "    total_loss=0\n",
        "    for i, x in enumerate(trainloader):\n",
        "        # Forward pass\n",
        "        optimizer.zero_grad()\n",
        "        x_reconst, mu, log_var = vae_model(x)\n",
        "\n",
        "        # Compute reconstruction loss and kl divergence\n",
        "        reconst_loss = mse_loss(x_reconst, x)\n",
        "        kl_div = - 0.5 * torch.sum(1 + log_var - mu.pow(2) - log_var.exp())\n",
        "\n",
        "        # Backprop and optimize\n",
        "        loss = reconst_loss + kl_div\n",
        "\n",
        "        loss.backward()\n",
        "        optimizer.step()\n",
        "\n",
        "        total_loss += loss.item()\n",
        "\n",
        "        if (i+1) % 100 == 0:\n",
        "          #посмотреть trainset, его нет в Dataloader, который я наджипитила, надо переделать dataloader\n",
        "            print (\"Epoch[{}/{}], Step [{}/{}], Reconst Loss: {:.4f}, Loss: {:.4f}\"\n",
        "                   .format(epoch+1, num_epochs, i+1, len(trainloader), reconst_loss.item(), total_loss / len(trainset)))\n",
        "\n",
        "    with torch.no_grad():\n",
        "        # Save the sampled images\n",
        "        z = torch.randn(batchsize, 40).to(device)\n",
        "        out = vae_model.decode(z).view(-1, 1, 32, 32)\n",
        "        save_image(out,'./sampled-{}.png'.format(epoch+1))\n",
        "\n",
        "        # Save the reconstructed images\n",
        "        out, _, _ = vae_model(x)\n",
        "        # print('out', out.shape, '\\n')\n",
        "        # print('x', x.shape)\n",
        "        x_concat = torch.cat([x.view(-1, 1, 32, 32), out.view(-1, 1, 32, 32)], dim=1)\n",
        "        save_image(x_concat, './reconst-{}.png'.format(epoch+1))"
      ],
      "metadata": {
        "colab": {
          "base_uri": "https://localhost:8080/"
        },
        "id": "-_SDCtdp1dPV",
        "outputId": "9f360eba-8ff8-4e4a-c5f4-b2c45f2979ae"
      },
      "execution_count": null,
      "outputs": [
        {
          "output_type": "stream",
          "name": "stderr",
          "text": [
            "100%|██████████| 100/100 [56:06<00:00, 33.66s/it]\n"
          ]
        }
      ]
    },
    {
      "cell_type": "code",
      "source": [],
      "metadata": {
        "id": "bjDOm8rH1hUt"
      },
      "execution_count": null,
      "outputs": []
    },
    {
      "cell_type": "markdown",
      "source": [
        "Implement a function that will generate images using the implemented vae"
      ],
      "metadata": {
        "id": "-oC1yClp1pbL"
      }
    },
    {
      "cell_type": "code",
      "source": [
        "import torch\n",
        "import matplotlib.pyplot as plt\n",
        "import numpy as np\n",
        "\n",
        "def generate_images(vae, num_images=5):\n",
        "    vae.eval()  # Set the model to evaluation mode\n",
        "    with torch.no_grad():\n",
        "        # Generate random latent vectors\n",
        "        latent_vectors = torch.randn(num_images, 40)\n",
        "\n",
        "        # Decode latent vectors to generate images\n",
        "        generated_images = vae.decode(latent_vectors)\n",
        "\n",
        "    # Plot the generated images\n",
        "    plt.figure(figsize=(10, 2))\n",
        "    for i in range(num_images):\n",
        "        plt.subplot(1, num_images, i + 1)\n",
        "        image = generated_images[i].permute(1, 2, 0).numpy()\n",
        "        plt.imshow(np.clip(image, 0, 1))\n",
        "        plt.axis('off')\n",
        "\n",
        "    plt.show()\n",
        "\n",
        "# Assuming 'vae' is the trained VAE model\n",
        "generate_images(vae_model, num_images=5)"
      ],
      "metadata": {
        "colab": {
          "base_uri": "https://localhost:8080/",
          "height": 170
        },
        "id": "duM_Ey321hyl",
        "outputId": "a96e112e-4fe2-4af5-b427-5027a4f020da"
      },
      "execution_count": null,
      "outputs": [
        {
          "output_type": "display_data",
          "data": {
            "text/plain": [
              "<Figure size 1000x200 with 5 Axes>"
            ],
            "image/png": "[encoded data removed]"
          },
          "metadata": {}
        }
      ]
    },
    {
      "cell_type": "code",
      "source": [],
      "metadata": {
        "id": "0mleNr2m1h35"
      },
      "execution_count": null,
      "outputs": []
    }
  ]
}