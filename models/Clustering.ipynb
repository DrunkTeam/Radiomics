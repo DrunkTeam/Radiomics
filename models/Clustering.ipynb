{
  "nbformat": 4,
  "nbformat_minor": 0,
  "metadata": {
    "colab": {
      "provenance": []
    },
    "kernelspec": {
      "name": "python3",
      "display_name": "Python 3"
    },
    "language_info": {
      "name": "python"
    }
  },
  "cells": [
    {
      "cell_type": "code",
      "execution_count": 10,
      "metadata": {
        "id": "pMP2IlfQSztL"
      },
      "outputs": [],
      "source": [
        "import matplotlib.pyplot as plt\n",
        "import pandas as pd"
      ]
    },
    {
      "cell_type": "code",
      "source": [
        "df = pd.read_csv('combined_new.csv')\n",
        "df = df.drop(df.columns[:22], axis=1) #meta-data\n",
        "df = df.drop('name', axis=1)"
      ],
      "metadata": {
        "id": "tNP3eXE4S87Y"
      },
      "execution_count": 11,
      "outputs": []
    },
    {
      "cell_type": "code",
      "source": [
        "df"
      ],
      "metadata": {
        "colab": {
          "base_uri": "https://localhost:8080/",
          "height": 444
        },
        "id": "aB8g_PN9Tdkz",
        "outputId": "5d3ad9ab-2211-494e-a02e-ccae1b4ba0f4"
      },
      "execution_count": 12,
      "outputs": [
        {
          "output_type": "execute_result",
          "data": {
            "text/plain": [
              "     original_shape_Elongation  original_shape_Flatness  \\\n",
              "0                     0.764607                 0.413889   \n",
              "1                     0.700338                 0.574578   \n",
              "2                     0.833499                 0.628468   \n",
              "3                     0.897789                 0.814888   \n",
              "4                     0.460290                 0.404966   \n",
              "..                         ...                      ...   \n",
              "155                   0.838671                 0.737646   \n",
              "156                   0.701843                 0.624692   \n",
              "157                   0.717008                 0.699893   \n",
              "158                   0.903791                 0.823936   \n",
              "159                   0.932064                 0.647308   \n",
              "\n",
              "     original_shape_LeastAxisLength  original_shape_MajorAxisLength  \\\n",
              "0                         12.984508                       31.371966   \n",
              "1                         20.201616                       35.159024   \n",
              "2                         30.691706                       48.835737   \n",
              "3                         39.344971                       48.282703   \n",
              "4                          5.120320                       12.643813   \n",
              "..                              ...                             ...   \n",
              "155                       34.465588                       46.723754   \n",
              "156                       77.257905                      123.673536   \n",
              "157                       54.035452                       77.205354   \n",
              "158                       48.942985                       59.401462   \n",
              "159                       40.679712                       62.844453   \n",
              "\n",
              "     original_shape_Maximum2DDiameterColumn  \\\n",
              "0                                 32.962023   \n",
              "1                                 38.814302   \n",
              "2                                 66.935507   \n",
              "3                                 60.120200   \n",
              "4                                 13.173549   \n",
              "..                                      ...   \n",
              "155                               52.780068   \n",
              "156                              107.975285   \n",
              "157                               80.000120   \n",
              "158                               69.050713   \n",
              "159                               72.194231   \n",
              "\n",
              "     original_shape_Maximum2DDiameterRow  \\\n",
              "0                              33.434414   \n",
              "1                              30.105778   \n",
              "2                              49.859821   \n",
              "3                              52.912316   \n",
              "4                              12.001463   \n",
              "..                                   ...   \n",
              "155                            48.619010   \n",
              "156                           141.316130   \n",
              "157                            82.769508   \n",
              "158                            68.369865   \n",
              "159                            74.983177   \n",
              "\n",
              "     original_shape_Maximum2DDiameterSlice  original_shape_Maximum3DDiameter  \\\n",
              "0                                32.808978                         33.970126   \n",
              "1                                39.348493                         40.599309   \n",
              "2                                74.262942                         74.262942   \n",
              "3                                52.524104                         60.599487   \n",
              "4                                 9.470362                         14.065837   \n",
              "..                                     ...                               ...   \n",
              "155                              52.546540                         59.389355   \n",
              "156                             140.709601                        157.410932   \n",
              "157                              88.281699                         91.358215   \n",
              "158                              67.059799                         70.218750   \n",
              "159                              72.645040                         79.354760   \n",
              "\n",
              "     original_shape_MeshVolume  original_shape_MinorAxisLength  ...  \\\n",
              "0                  5655.480418                       23.987224  ...   \n",
              "1                 11620.060974                       24.623216  ...   \n",
              "2                 40062.095982                       40.704539  ...   \n",
              "3                 57753.651952                       43.347697  ...   \n",
              "4                   277.532826                        5.819821  ...   \n",
              "..                         ...                             ...  ...   \n",
              "155               43174.670397                       39.185879  ...   \n",
              "156              516275.449156                       86.799431  ...   \n",
              "157              140840.571769                       55.356864  ...   \n",
              "158              110941.853739                       53.686478  ...   \n",
              "159              104027.714519                       58.575065  ...   \n",
              "\n",
              "     original_glszm_SmallAreaLowGrayLevelEmphasis  original_glszm_ZoneEntropy  \\\n",
              "0                                        0.006336                    6.705198   \n",
              "1                                        0.002289                    7.885558   \n",
              "2                                        0.000414                    7.686420   \n",
              "3                                        0.002813                    7.675965   \n",
              "4                                        0.031387                    4.432620   \n",
              "..                                            ...                         ...   \n",
              "155                                      0.007598                    6.397916   \n",
              "156                                      0.000156                    7.892259   \n",
              "157                                      0.001953                    7.520979   \n",
              "158                                      0.001026                    7.002111   \n",
              "159                                      0.005129                    7.577684   \n",
              "\n",
              "     original_glszm_ZonePercentage  original_glszm_ZoneVariance  \\\n",
              "0                         0.413742                     9.164744   \n",
              "1                         0.335306                    23.846467   \n",
              "2                         0.336114                   250.738294   \n",
              "3                         0.073041                109243.831794   \n",
              "4                         0.055285                  3036.609862   \n",
              "..                             ...                          ...   \n",
              "155                       0.056563                 30146.416297   \n",
              "156                       0.651680                     2.209869   \n",
              "157                       0.138596                  9502.099817   \n",
              "158                       0.219702                  5968.699692   \n",
              "159                       0.041073                310623.172448   \n",
              "\n",
              "     original_ngtdm_Busyness  original_ngtdm_Coarseness  \\\n",
              "0                   0.553242                   0.002479   \n",
              "1                   1.139757                   0.000671   \n",
              "2                   0.595404                   0.000234   \n",
              "3                   8.224631                   0.000094   \n",
              "4                   1.274256                   0.013081   \n",
              "..                       ...                        ...   \n",
              "155                 2.718173                   0.000555   \n",
              "156                 0.516443                   0.000127   \n",
              "157                 6.904314                   0.000076   \n",
              "158                 1.857575                   0.000205   \n",
              "159                45.277320                   0.000054   \n",
              "\n",
              "     original_ngtdm_Complexity  original_ngtdm_Contrast  \\\n",
              "0                  2080.874813                 0.136338   \n",
              "1                 11060.413114                 0.399200   \n",
              "2                 15771.669270                 0.158388   \n",
              "3                  1407.941379                 0.031227   \n",
              "4                    27.143444                 0.010071   \n",
              "..                         ...                      ...   \n",
              "155                 333.254499                 0.028774   \n",
              "156              101139.763365                 0.468515   \n",
              "157                2725.914761                 0.053718   \n",
              "158                3435.583923                 0.194350   \n",
              "159                 381.428568                 0.053372   \n",
              "\n",
              "     original_ngtdm_Strength  mutation  \n",
              "0                   1.836137         1  \n",
              "1                   1.403567         1  \n",
              "2                   1.010810         1  \n",
              "3                   0.132257         1  \n",
              "4                   1.273143         1  \n",
              "..                       ...       ...  \n",
              "155                 0.211518        -1  \n",
              "156                 1.021151        -1  \n",
              "157                 0.097691        -1  \n",
              "158                 0.316872        -1  \n",
              "159                 0.014799        -1  \n",
              "\n",
              "[160 rows x 108 columns]"
            ],
            "text/html": [
              "\n",
              "  <div id=\"df-f3b7a685-3763-49e4-a492-57a67e437adb\" class=\"colab-df-container\">\n",
              "    <div>\n",
              "<style scoped>\n",
              "    .dataframe tbody tr th:only-of-type {\n",
              "        vertical-align: middle;\n",
              "    }\n",
              "\n",
              "    .dataframe tbody tr th {\n",
              "        vertical-align: top;\n",
              "    }\n",
              "\n",
              "    .dataframe thead th {\n",
              "        text-align: right;\n",
              "    }\n",
              "</style>\n",
              "<table border=\"1\" class=\"dataframe\">\n",
              "  <thead>\n",
              "    <tr style=\"text-align: right;\">\n",
              "      <th></th>\n",
              "      <th>original_shape_Elongation</th>\n",
              "      <th>original_shape_Flatness</th>\n",
              "      <th>original_shape_LeastAxisLength</th>\n",
              "      <th>original_shape_MajorAxisLength</th>\n",
              "      <th>original_shape_Maximum2DDiameterColumn</th>\n",
              "      <th>original_shape_Maximum2DDiameterRow</th>\n",
              "      <th>original_shape_Maximum2DDiameterSlice</th>\n",
              "      <th>original_shape_Maximum3DDiameter</th>\n",
              "      <th>original_shape_MeshVolume</th>\n",
              "      <th>original_shape_MinorAxisLength</th>\n",
              "      <th>...</th>\n",
              "      <th>original_glszm_SmallAreaLowGrayLevelEmphasis</th>\n",
              "      <th>original_glszm_ZoneEntropy</th>\n",
              "      <th>original_glszm_ZonePercentage</th>\n",
              "      <th>original_glszm_ZoneVariance</th>\n",
              "      <th>original_ngtdm_Busyness</th>\n",
              "      <th>original_ngtdm_Coarseness</th>\n",
              "      <th>original_ngtdm_Complexity</th>\n",
              "      <th>original_ngtdm_Contrast</th>\n",
              "      <th>original_ngtdm_Strength</th>\n",
              "      <th>mutation</th>\n",
              "    </tr>\n",
              "  </thead>\n",
              "  <tbody>\n",
              "    <tr>\n",
              "      <th>0</th>\n",
              "      <td>0.764607</td>\n",
              "      <td>0.413889</td>\n",
              "      <td>12.984508</td>\n",
              "      <td>31.371966</td>\n",
              "      <td>32.962023</td>\n",
              "      <td>33.434414</td>\n",
              "      <td>32.808978</td>\n",
              "      <td>33.970126</td>\n",
              "      <td>5655.480418</td>\n",
              "      <td>23.987224</td>\n",
              "      <td>...</td>\n",
              "      <td>0.006336</td>\n",
              "      <td>6.705198</td>\n",
              "      <td>0.413742</td>\n",
              "      <td>9.164744</td>\n",
              "      <td>0.553242</td>\n",
              "      <td>0.002479</td>\n",
              "      <td>2080.874813</td>\n",
              "      <td>0.136338</td>\n",
              "      <td>1.836137</td>\n",
              "      <td>1</td>\n",
              "    </tr>\n",
              "    <tr>\n",
              "      <th>1</th>\n",
              "      <td>0.700338</td>\n",
              "      <td>0.574578</td>\n",
              "      <td>20.201616</td>\n",
              "      <td>35.159024</td>\n",
              "      <td>38.814302</td>\n",
              "      <td>30.105778</td>\n",
              "      <td>39.348493</td>\n",
              "      <td>40.599309</td>\n",
              "      <td>11620.060974</td>\n",
              "      <td>24.623216</td>\n",
              "      <td>...</td>\n",
              "      <td>0.002289</td>\n",
              "      <td>7.885558</td>\n",
              "      <td>0.335306</td>\n",
              "      <td>23.846467</td>\n",
              "      <td>1.139757</td>\n",
              "      <td>0.000671</td>\n",
              "      <td>11060.413114</td>\n",
              "      <td>0.399200</td>\n",
              "      <td>1.403567</td>\n",
              "      <td>1</td>\n",
              "    </tr>\n",
              "    <tr>\n",
              "      <th>2</th>\n",
              "      <td>0.833499</td>\n",
              "      <td>0.628468</td>\n",
              "      <td>30.691706</td>\n",
              "      <td>48.835737</td>\n",
              "      <td>66.935507</td>\n",
              "      <td>49.859821</td>\n",
              "      <td>74.262942</td>\n",
              "      <td>74.262942</td>\n",
              "      <td>40062.095982</td>\n",
              "      <td>40.704539</td>\n",
              "      <td>...</td>\n",
              "      <td>0.000414</td>\n",
              "      <td>7.686420</td>\n",
              "      <td>0.336114</td>\n",
              "      <td>250.738294</td>\n",
              "      <td>0.595404</td>\n",
              "      <td>0.000234</td>\n",
              "      <td>15771.669270</td>\n",
              "      <td>0.158388</td>\n",
              "      <td>1.010810</td>\n",
              "      <td>1</td>\n",
              "    </tr>\n",
              "    <tr>\n",
              "      <th>3</th>\n",
              "      <td>0.897789</td>\n",
              "      <td>0.814888</td>\n",
              "      <td>39.344971</td>\n",
              "      <td>48.282703</td>\n",
              "      <td>60.120200</td>\n",
              "      <td>52.912316</td>\n",
              "      <td>52.524104</td>\n",
              "      <td>60.599487</td>\n",
              "      <td>57753.651952</td>\n",
              "      <td>43.347697</td>\n",
              "      <td>...</td>\n",
              "      <td>0.002813</td>\n",
              "      <td>7.675965</td>\n",
              "      <td>0.073041</td>\n",
              "      <td>109243.831794</td>\n",
              "      <td>8.224631</td>\n",
              "      <td>0.000094</td>\n",
              "      <td>1407.941379</td>\n",
              "      <td>0.031227</td>\n",
              "      <td>0.132257</td>\n",
              "      <td>1</td>\n",
              "    </tr>\n",
              "    <tr>\n",
              "      <th>4</th>\n",
              "      <td>0.460290</td>\n",
              "      <td>0.404966</td>\n",
              "      <td>5.120320</td>\n",
              "      <td>12.643813</td>\n",
              "      <td>13.173549</td>\n",
              "      <td>12.001463</td>\n",
              "      <td>9.470362</td>\n",
              "      <td>14.065837</td>\n",
              "      <td>277.532826</td>\n",
              "      <td>5.819821</td>\n",
              "      <td>...</td>\n",
              "      <td>0.031387</td>\n",
              "      <td>4.432620</td>\n",
              "      <td>0.055285</td>\n",
              "      <td>3036.609862</td>\n",
              "      <td>1.274256</td>\n",
              "      <td>0.013081</td>\n",
              "      <td>27.143444</td>\n",
              "      <td>0.010071</td>\n",
              "      <td>1.273143</td>\n",
              "      <td>1</td>\n",
              "    </tr>\n",
              "    <tr>\n",
              "      <th>...</th>\n",
              "      <td>...</td>\n",
              "      <td>...</td>\n",
              "      <td>...</td>\n",
              "      <td>...</td>\n",
              "      <td>...</td>\n",
              "      <td>...</td>\n",
              "      <td>...</td>\n",
              "      <td>...</td>\n",
              "      <td>...</td>\n",
              "      <td>...</td>\n",
              "      <td>...</td>\n",
              "      <td>...</td>\n",
              "      <td>...</td>\n",
              "      <td>...</td>\n",
              "      <td>...</td>\n",
              "      <td>...</td>\n",
              "      <td>...</td>\n",
              "      <td>...</td>\n",
              "      <td>...</td>\n",
              "      <td>...</td>\n",
              "      <td>...</td>\n",
              "    </tr>\n",
              "    <tr>\n",
              "      <th>155</th>\n",
              "      <td>0.838671</td>\n",
              "      <td>0.737646</td>\n",
              "      <td>34.465588</td>\n",
              "      <td>46.723754</td>\n",
              "      <td>52.780068</td>\n",
              "      <td>48.619010</td>\n",
              "      <td>52.546540</td>\n",
              "      <td>59.389355</td>\n",
              "      <td>43174.670397</td>\n",
              "      <td>39.185879</td>\n",
              "      <td>...</td>\n",
              "      <td>0.007598</td>\n",
              "      <td>6.397916</td>\n",
              "      <td>0.056563</td>\n",
              "      <td>30146.416297</td>\n",
              "      <td>2.718173</td>\n",
              "      <td>0.000555</td>\n",
              "      <td>333.254499</td>\n",
              "      <td>0.028774</td>\n",
              "      <td>0.211518</td>\n",
              "      <td>-1</td>\n",
              "    </tr>\n",
              "    <tr>\n",
              "      <th>156</th>\n",
              "      <td>0.701843</td>\n",
              "      <td>0.624692</td>\n",
              "      <td>77.257905</td>\n",
              "      <td>123.673536</td>\n",
              "      <td>107.975285</td>\n",
              "      <td>141.316130</td>\n",
              "      <td>140.709601</td>\n",
              "      <td>157.410932</td>\n",
              "      <td>516275.449156</td>\n",
              "      <td>86.799431</td>\n",
              "      <td>...</td>\n",
              "      <td>0.000156</td>\n",
              "      <td>7.892259</td>\n",
              "      <td>0.651680</td>\n",
              "      <td>2.209869</td>\n",
              "      <td>0.516443</td>\n",
              "      <td>0.000127</td>\n",
              "      <td>101139.763365</td>\n",
              "      <td>0.468515</td>\n",
              "      <td>1.021151</td>\n",
              "      <td>-1</td>\n",
              "    </tr>\n",
              "    <tr>\n",
              "      <th>157</th>\n",
              "      <td>0.717008</td>\n",
              "      <td>0.699893</td>\n",
              "      <td>54.035452</td>\n",
              "      <td>77.205354</td>\n",
              "      <td>80.000120</td>\n",
              "      <td>82.769508</td>\n",
              "      <td>88.281699</td>\n",
              "      <td>91.358215</td>\n",
              "      <td>140840.571769</td>\n",
              "      <td>55.356864</td>\n",
              "      <td>...</td>\n",
              "      <td>0.001953</td>\n",
              "      <td>7.520979</td>\n",
              "      <td>0.138596</td>\n",
              "      <td>9502.099817</td>\n",
              "      <td>6.904314</td>\n",
              "      <td>0.000076</td>\n",
              "      <td>2725.914761</td>\n",
              "      <td>0.053718</td>\n",
              "      <td>0.097691</td>\n",
              "      <td>-1</td>\n",
              "    </tr>\n",
              "    <tr>\n",
              "      <th>158</th>\n",
              "      <td>0.903791</td>\n",
              "      <td>0.823936</td>\n",
              "      <td>48.942985</td>\n",
              "      <td>59.401462</td>\n",
              "      <td>69.050713</td>\n",
              "      <td>68.369865</td>\n",
              "      <td>67.059799</td>\n",
              "      <td>70.218750</td>\n",
              "      <td>110941.853739</td>\n",
              "      <td>53.686478</td>\n",
              "      <td>...</td>\n",
              "      <td>0.001026</td>\n",
              "      <td>7.002111</td>\n",
              "      <td>0.219702</td>\n",
              "      <td>5968.699692</td>\n",
              "      <td>1.857575</td>\n",
              "      <td>0.000205</td>\n",
              "      <td>3435.583923</td>\n",
              "      <td>0.194350</td>\n",
              "      <td>0.316872</td>\n",
              "      <td>-1</td>\n",
              "    </tr>\n",
              "    <tr>\n",
              "      <th>159</th>\n",
              "      <td>0.932064</td>\n",
              "      <td>0.647308</td>\n",
              "      <td>40.679712</td>\n",
              "      <td>62.844453</td>\n",
              "      <td>72.194231</td>\n",
              "      <td>74.983177</td>\n",
              "      <td>72.645040</td>\n",
              "      <td>79.354760</td>\n",
              "      <td>104027.714519</td>\n",
              "      <td>58.575065</td>\n",
              "      <td>...</td>\n",
              "      <td>0.005129</td>\n",
              "      <td>7.577684</td>\n",
              "      <td>0.041073</td>\n",
              "      <td>310623.172448</td>\n",
              "      <td>45.277320</td>\n",
              "      <td>0.000054</td>\n",
              "      <td>381.428568</td>\n",
              "      <td>0.053372</td>\n",
              "      <td>0.014799</td>\n",
              "      <td>-1</td>\n",
              "    </tr>\n",
              "  </tbody>\n",
              "</table>\n",
              "<p>160 rows × 108 columns</p>\n",
              "</div>\n",
              "    <div class=\"colab-df-buttons\">\n",
              "\n",
              "  <div class=\"colab-df-container\">\n",
              "    <button class=\"colab-df-convert\" onclick=\"convertToInteractive('df-f3b7a685-3763-49e4-a492-57a67e437adb')\"\n",
              "            title=\"Convert this dataframe to an interactive table.\"\n",
              "            style=\"display:none;\">\n",
              "\n",
              "  <svg xmlns=\"http://www.w3.org/2000/svg\" height=\"24px\" viewBox=\"0 -960 960 960\">\n",
              "    <path d=\"M120-120v-720h720v720H120Zm60-500h600v-160H180v160Zm220 220h160v-160H400v160Zm0 220h160v-160H400v160ZM180-400h160v-160H180v160Zm440 0h160v-160H620v160ZM180-180h160v-160H180v160Zm440 0h160v-160H620v160Z\"/>\n",
              "  </svg>\n",
              "    </button>\n",
              "\n",
              "  <style>\n",
              "    .colab-df-container {\n",
              "      display:flex;\n",
              "      gap: 12px;\n",
              "    }\n",
              "\n",
              "    .colab-df-convert {\n",
              "      background-color: #E8F0FE;\n",
              "      border: none;\n",
              "      border-radius: 50%;\n",
              "      cursor: pointer;\n",
              "      display: none;\n",
              "      fill: #1967D2;\n",
              "      height: 32px;\n",
              "      padding: 0 0 0 0;\n",
              "      width: 32px;\n",
              "    }\n",
              "\n",
              "    .colab-df-convert:hover {\n",
              "      background-color: #E2EBFA;\n",
              "      box-shadow: 0px 1px 2px rgba(60, 64, 67, 0.3), 0px 1px 3px 1px rgba(60, 64, 67, 0.15);\n",
              "      fill: #174EA6;\n",
              "    }\n",
              "\n",
              "    .colab-df-buttons div {\n",
              "      margin-bottom: 4px;\n",
              "    }\n",
              "\n",
              "    [theme=dark] .colab-df-convert {\n",
              "      background-color: #3B4455;\n",
              "      fill: #D2E3FC;\n",
              "    }\n",
              "\n",
              "    [theme=dark] .colab-df-convert:hover {\n",
              "      background-color: #434B5C;\n",
              "      box-shadow: 0px 1px 3px 1px rgba(0, 0, 0, 0.15);\n",
              "      filter: drop-shadow(0px 1px 2px rgba(0, 0, 0, 0.3));\n",
              "      fill: #FFFFFF;\n",
              "    }\n",
              "  </style>\n",
              "\n",
              "    <script>\n",
              "      const buttonEl =\n",
              "        document.querySelector('#df-f3b7a685-3763-49e4-a492-57a67e437adb button.colab-df-convert');\n",
              "      buttonEl.style.display =\n",
              "        google.colab.kernel.accessAllowed ? 'block' : 'none';\n",
              "\n",
              "      async function convertToInteractive(key) {\n",
              "        const element = document.querySelector('#df-f3b7a685-3763-49e4-a492-57a67e437adb');\n",
              "        const dataTable =\n",
              "          await google.colab.kernel.invokeFunction('convertToInteractive',\n",
              "                                                    [key], {});\n",
              "        if (!dataTable) return;\n",
              "\n",
              "        const docLinkHtml = 'Like what you see? Visit the ' +\n",
              "          '<a target=\"_blank\" href=https://colab.research.google.com/notebooks/data_table.ipynb>data table notebook</a>'\n",
              "          + ' to learn more about interactive tables.';\n",
              "        element.innerHTML = '';\n",
              "        dataTable['output_type'] = 'display_data';\n",
              "        await google.colab.output.renderOutput(dataTable, element);\n",
              "        const docLink = document.createElement('div');\n",
              "        docLink.innerHTML = docLinkHtml;\n",
              "        element.appendChild(docLink);\n",
              "      }\n",
              "    </script>\n",
              "  </div>\n",
              "\n",
              "\n",
              "<div id=\"df-9a866135-52fb-4d34-aa19-3aa5356782c7\">\n",
              "  <button class=\"colab-df-quickchart\" onclick=\"quickchart('df-9a866135-52fb-4d34-aa19-3aa5356782c7')\"\n",
              "            title=\"Suggest charts\"\n",
              "            style=\"display:none;\">\n",
              "\n",
              "<svg xmlns=\"http://www.w3.org/2000/svg\" height=\"24px\"viewBox=\"0 0 24 24\"\n",
              "     width=\"24px\">\n",
              "    <g>\n",
              "        <path d=\"M19 3H5c-1.1 0-2 .9-2 2v14c0 1.1.9 2 2 2h14c1.1 0 2-.9 2-2V5c0-1.1-.9-2-2-2zM9 17H7v-7h2v7zm4 0h-2V7h2v10zm4 0h-2v-4h2v4z\"/>\n",
              "    </g>\n",
              "</svg>\n",
              "  </button>\n",
              "\n",
              "<style>\n",
              "  .colab-df-quickchart {\n",
              "      --bg-color: #E8F0FE;\n",
              "      --fill-color: #1967D2;\n",
              "      --hover-bg-color: #E2EBFA;\n",
              "      --hover-fill-color: #174EA6;\n",
              "      --disabled-fill-color: #AAA;\n",
              "      --disabled-bg-color: #DDD;\n",
              "  }\n",
              "\n",
              "  [theme=dark] .colab-df-quickchart {\n",
              "      --bg-color: #3B4455;\n",
              "      --fill-color: #D2E3FC;\n",
              "      --hover-bg-color: #434B5C;\n",
              "      --hover-fill-color: #FFFFFF;\n",
              "      --disabled-bg-color: #3B4455;\n",
              "      --disabled-fill-color: #666;\n",
              "  }\n",
              "\n",
              "  .colab-df-quickchart {\n",
              "    background-color: var(--bg-color);\n",
              "    border: none;\n",
              "    border-radius: 50%;\n",
              "    cursor: pointer;\n",
              "    display: none;\n",
              "    fill: var(--fill-color);\n",
              "    height: 32px;\n",
              "    padding: 0;\n",
              "    width: 32px;\n",
              "  }\n",
              "\n",
              "  .colab-df-quickchart:hover {\n",
              "    background-color: var(--hover-bg-color);\n",
              "    box-shadow: 0 1px 2px rgba(60, 64, 67, 0.3), 0 1px 3px 1px rgba(60, 64, 67, 0.15);\n",
              "    fill: var(--button-hover-fill-color);\n",
              "  }\n",
              "\n",
              "  .colab-df-quickchart-complete:disabled,\n",
              "  .colab-df-quickchart-complete:disabled:hover {\n",
              "    background-color: var(--disabled-bg-color);\n",
              "    fill: var(--disabled-fill-color);\n",
              "    box-shadow: none;\n",
              "  }\n",
              "\n",
              "  .colab-df-spinner {\n",
              "    border: 2px solid var(--fill-color);\n",
              "    border-color: transparent;\n",
              "    border-bottom-color: var(--fill-color);\n",
              "    animation:\n",
              "      spin 1s steps(1) infinite;\n",
              "  }\n",
              "\n",
              "  @keyframes spin {\n",
              "    0% {\n",
              "      border-color: transparent;\n",
              "      border-bottom-color: var(--fill-color);\n",
              "      border-left-color: var(--fill-color);\n",
              "    }\n",
              "    20% {\n",
              "      border-color: transparent;\n",
              "      border-left-color: var(--fill-color);\n",
              "      border-top-color: var(--fill-color);\n",
              "    }\n",
              "    30% {\n",
              "      border-color: transparent;\n",
              "      border-left-color: var(--fill-color);\n",
              "      border-top-color: var(--fill-color);\n",
              "      border-right-color: var(--fill-color);\n",
              "    }\n",
              "    40% {\n",
              "      border-color: transparent;\n",
              "      border-right-color: var(--fill-color);\n",
              "      border-top-color: var(--fill-color);\n",
              "    }\n",
              "    60% {\n",
              "      border-color: transparent;\n",
              "      border-right-color: var(--fill-color);\n",
              "    }\n",
              "    80% {\n",
              "      border-color: transparent;\n",
              "      border-right-color: var(--fill-color);\n",
              "      border-bottom-color: var(--fill-color);\n",
              "    }\n",
              "    90% {\n",
              "      border-color: transparent;\n",
              "      border-bottom-color: var(--fill-color);\n",
              "    }\n",
              "  }\n",
              "</style>\n",
              "\n",
              "  <script>\n",
              "    async function quickchart(key) {\n",
              "      const quickchartButtonEl =\n",
              "        document.querySelector('#' + key + ' button');\n",
              "      quickchartButtonEl.disabled = true;  // To prevent multiple clicks.\n",
              "      quickchartButtonEl.classList.add('colab-df-spinner');\n",
              "      try {\n",
              "        const charts = await google.colab.kernel.invokeFunction(\n",
              "            'suggestCharts', [key], {});\n",
              "      } catch (error) {\n",
              "        console.error('Error during call to suggestCharts:', error);\n",
              "      }\n",
              "      quickchartButtonEl.classList.remove('colab-df-spinner');\n",
              "      quickchartButtonEl.classList.add('colab-df-quickchart-complete');\n",
              "    }\n",
              "    (() => {\n",
              "      let quickchartButtonEl =\n",
              "        document.querySelector('#df-9a866135-52fb-4d34-aa19-3aa5356782c7 button');\n",
              "      quickchartButtonEl.style.display =\n",
              "        google.colab.kernel.accessAllowed ? 'block' : 'none';\n",
              "    })();\n",
              "  </script>\n",
              "</div>\n",
              "    </div>\n",
              "  </div>\n"
            ],
            "application/vnd.google.colaboratory.intrinsic+json": {
              "type": "dataframe",
              "variable_name": "df"
            }
          },
          "metadata": {},
          "execution_count": 12
        }
      ]
    },
    {
      "cell_type": "code",
      "source": [
        "df_no_label = df.drop('mutation', axis=1)"
      ],
      "metadata": {
        "id": "qldXFtiGTPT8"
      },
      "execution_count": 13,
      "outputs": []
    },
    {
      "cell_type": "code",
      "source": [
        "df_known = df.loc[df['mutation'].isin([1, 0])]\n",
        "df_unknown = df.loc[df['mutation'].isin([-1])]\n",
        "df_known_no_label = df_known.drop(df.columns[-1:], axis=1)\n",
        "df_unknown_no_label = df_unknown.drop(df.columns[-1:], axis=1)"
      ],
      "metadata": {
        "id": "eN0zVPDXUCyE"
      },
      "execution_count": 27,
      "outputs": []
    },
    {
      "cell_type": "markdown",
      "source": [
        "# K-means++"
      ],
      "metadata": {
        "id": "MB1CFEFUUPZl"
      }
    },
    {
      "cell_type": "code",
      "source": [
        "import pandas as pd\n",
        "import numpy as np\n",
        "import matplotlib.pyplot as plt\n",
        "from sklearn.cluster import KMeans\n",
        "from sklearn.preprocessing import StandardScaler\n",
        "from sklearn.metrics import silhouette_score\n",
        "\n",
        "\n",
        "# Стандартизируем данные\n",
        "scaled_df = StandardScaler().fit_transform(df_known_no_label)\n",
        "\n",
        "# Используем метод локтя для определения оптимального числа кластеров\n",
        "sse = []\n",
        "silhouette_scores = []\n",
        "for k in range(2, 6):\n",
        "    kmeans = KMeans(n_clusters=k, init='k-means++', random_state=1)\n",
        "    kmeans.fit(scaled_df)\n",
        "    sse.append(kmeans.inertia_)\n",
        "    silhouette_scores.append(silhouette_score(scaled_df, kmeans.labels_, metric='euclidean'))\n",
        "\n",
        "# Создаем график\n",
        "plt.figure(figsize=(10, 6))\n",
        "plt.subplot(1, 2, 1)\n",
        "plt.plot(range(2, 6), sse, marker='o')\n",
        "plt.xlabel('Number of Clusters')\n",
        "plt.ylabel('Sum of Squared Errors (SSE)')\n",
        "plt.title('Elbow Method for Optimal Number of Clusters')\n",
        "\n",
        "plt.subplot(1, 2, 2)\n",
        "plt.plot(range(2, 6), silhouette_scores, marker='o')\n",
        "plt.xlabel('Number of Clusters')\n",
        "plt.ylabel('Silhouette Score')\n",
        "plt.title('Silhouette Method for Optimal Number of Clusters')\n",
        "\n",
        "plt.tight_layout()\n",
        "plt.show()"
      ],
      "metadata": {
        "colab": {
          "base_uri": "https://localhost:8080/",
          "height": 766
        },
        "id": "y3aDuSTMURR4",
        "outputId": "2f513511-5115-462b-ae01-073c9610daa8"
      },
      "execution_count": 19,
      "outputs": [
        {
          "output_type": "stream",
          "name": "stderr",
          "text": [
            "/usr/local/lib/python3.10/dist-packages/sklearn/cluster/_kmeans.py:870: FutureWarning: The default value of `n_init` will change from 10 to 'auto' in 1.4. Set the value of `n_init` explicitly to suppress the warning\n",
            "  warnings.warn(\n",
            "/usr/local/lib/python3.10/dist-packages/sklearn/cluster/_kmeans.py:870: FutureWarning: The default value of `n_init` will change from 10 to 'auto' in 1.4. Set the value of `n_init` explicitly to suppress the warning\n",
            "  warnings.warn(\n",
            "/usr/local/lib/python3.10/dist-packages/sklearn/cluster/_kmeans.py:870: FutureWarning: The default value of `n_init` will change from 10 to 'auto' in 1.4. Set the value of `n_init` explicitly to suppress the warning\n",
            "  warnings.warn(\n",
            "/usr/local/lib/python3.10/dist-packages/sklearn/cluster/_kmeans.py:870: FutureWarning: The default value of `n_init` will change from 10 to 'auto' in 1.4. Set the value of `n_init` explicitly to suppress the warning\n",
            "  warnings.warn(\n"
          ]
        },
        {
          "output_type": "display_data",
          "data": {
            "text/plain": [
              "<Figure size 1000x600 with 2 Axes>"
            ],
            "image/png": "[encoded data removed]"
          },
          "metadata": {}
        }
      ]
    },
    {
      "cell_type": "markdown",
      "source": [
        "## Predict for unknown"
      ],
      "metadata": {
        "id": "PLuMtVBpUh6y"
      }
    },
    {
      "cell_type": "code",
      "source": [
        "scale = StandardScaler().fit(df_known_no_label)\n",
        "scaled_df = scale.transform(df_known_no_label)\n",
        "\n",
        "kmeans = KMeans(n_clusters=2, init='k-means++', random_state=1)\n",
        "y_pred = kmeans.fit_predict(scaled_df)\n",
        "count_cluster_0 = np.sum(y_pred == 0)\n",
        "count_cluster_1 = np.sum(y_pred == 1)\n",
        "df_known['predict'] = y_pred\n",
        "\n",
        "print(\"На известных данных\")\n",
        "count_first = df_known[(df_known['mutation'] == 1) & (df_known['predict'] == 0)].shape[0]\n",
        "count_second = df_known[(df_known['mutation'] == 1) & (df_known['predict'] == 1)].shape[0]\n",
        "print(f\"Количество точек в первом / втором кластере: {count_cluster_0} (мутаций из них {count_first}) / {count_cluster_1} (мутаций из них {count_second})\")\n",
        "print(f\"Количество в оригинальном датасете мутации / без мутации: {(df['mutation'] == 1).sum()} / {(df['mutation'] == 0).sum()}\")\n",
        "\n",
        "print(\"\\nНа неизвестных данных\")\n",
        "scaled_df = scale.transform(df_unknown_no_label)\n",
        "y_pred = kmeans.predict(scaled_df)\n",
        "count_cluster_0 = np.sum(y_pred == 0)\n",
        "count_cluster_1 = np.sum(y_pred == 1)\n",
        "print(f\"Количество точек в первом / втором кластере: {count_cluster_0} / {count_cluster_1}\")"
      ],
      "metadata": {
        "colab": {
          "base_uri": "https://localhost:8080/"
        },
        "id": "wzRyCvZFUbiq",
        "outputId": "86e1790d-3931-466a-da65-a0791036c15b"
      },
      "execution_count": 20,
      "outputs": [
        {
          "output_type": "stream",
          "name": "stdout",
          "text": [
            "На известных данных\n",
            "Количество точек в первом / втором кластере: 80 (мутаций из них 59) / 19 (мутаций из них 15)\n",
            "Количество в оригинальном датасете мутации / без мутации: 74 / 25\n",
            "\n",
            "На неизвестных данных\n",
            "Количество точек в первом / втором кластере: 47 / 14\n"
          ]
        },
        {
          "output_type": "stream",
          "name": "stderr",
          "text": [
            "/usr/local/lib/python3.10/dist-packages/sklearn/cluster/_kmeans.py:870: FutureWarning: The default value of `n_init` will change from 10 to 'auto' in 1.4. Set the value of `n_init` explicitly to suppress the warning\n",
            "  warnings.warn(\n",
            "<ipython-input-20-1e30fbef60b4>:8: SettingWithCopyWarning: \n",
            "A value is trying to be set on a copy of a slice from a DataFrame.\n",
            "Try using .loc[row_indexer,col_indexer] = value instead\n",
            "\n",
            "See the caveats in the documentation: https://pandas.pydata.org/pandas-docs/stable/user_guide/indexing.html#returning-a-view-versus-a-copy\n",
            "  df_known['predict'] = y_pred\n"
          ]
        }
      ]
    },
    {
      "cell_type": "markdown",
      "source": [
        "# AgglomerativeClustering"
      ],
      "metadata": {
        "id": "q9Z0xLtVUrqa"
      }
    },
    {
      "cell_type": "code",
      "source": [
        "df_known_no_label = df_known.drop(df.columns[-1:], axis=1)\n",
        "df_unknown_no_label = df_unknown.drop(df.columns[-1:], axis=1)\n",
        "df_known = df.loc[df['mutation'].isin([1, 0])]"
      ],
      "metadata": {
        "id": "jlFak_AZUsOI"
      },
      "execution_count": 21,
      "outputs": []
    },
    {
      "cell_type": "code",
      "source": [
        "from sklearn.cluster import AgglomerativeClustering\n",
        "\n",
        "\n",
        "# Используем метод локтя для определения оптимального числа кластеров\n",
        "sse = []\n",
        "silhouette_scores = []\n",
        "for k in range(2, 6):\n",
        "    agg_clustering = AgglomerativeClustering(n_clusters=k)\n",
        "    y_pred = agg_clustering.fit_predict(df_known_no_label)\n",
        "    silhouette_scores.append(silhouette_score(df_known_no_label, y_pred))\n",
        "\n",
        "plt.plot(range(2, 6), silhouette_scores, marker='o')\n",
        "plt.xlabel('Number of Clusters')\n",
        "plt.ylabel('Silhouette Score')\n",
        "plt.title('Silhouette Score for Optimal Number of Clusters')\n",
        "plt.grid(True)\n",
        "plt.show()"
      ],
      "metadata": {
        "colab": {
          "base_uri": "https://localhost:8080/",
          "height": 472
        },
        "id": "-h1mqYQ-U8AA",
        "outputId": "3582cc07-7d29-41df-b2d6-a550d4c6b985"
      },
      "execution_count": 22,
      "outputs": [
        {
          "output_type": "display_data",
          "data": {
            "text/plain": [
              "<Figure size 640x480 with 1 Axes>"
            ],
            "image/png": "[encoded data removed]"
          },
          "metadata": {}
        }
      ]
    },
    {
      "cell_type": "code",
      "source": [
        "agg_clustering = AgglomerativeClustering(n_clusters=2)\n",
        "y_pred = agg_clustering.fit_predict(df_known_no_label)\n",
        "count_cluster_0 = np.sum(y_pred == 0)\n",
        "count_cluster_1 = np.sum(y_pred == 1)\n",
        "df_known['predict'] = y_pred\n",
        "\n",
        "print(\"На известных данных\")\n",
        "count_first = df_known[(df_known['mutation'] == 1) & (df_known['predict'] == 0)].shape[0]\n",
        "count_second = df_known[(df_known['mutation'] == 1) & (df_known['predict'] == 1)].shape[0]\n",
        "print(f\"Количество точек в первом / втором кластере: {count_cluster_0} (мутаций из них {count_first}) / {count_cluster_1} (мутаций из них {count_second})\")\n",
        "print(f\"Количество в оригинальном датасете: {(df['mutation'] == 1).sum()} / {(df['mutation'] == 0).sum()}\")\n",
        "\n",
        "print(\"\\nНа неизвестных данных\")\n",
        "y_pred = agg_clustering.fit_predict(df_unknown_no_label)\n",
        "count_cluster_0 = np.sum(y_pred == 0)\n",
        "count_cluster_1 = np.sum(y_pred == 1)\n",
        "print(f\"Количество точек в первом / втором кластере: {count_cluster_0} / {count_cluster_1}\")"
      ],
      "metadata": {
        "colab": {
          "base_uri": "https://localhost:8080/"
        },
        "id": "vxBuKW3lU-pT",
        "outputId": "2e883aa7-c0a3-4e4b-aad9-6f732ca8d69a"
      },
      "execution_count": 23,
      "outputs": [
        {
          "output_type": "stream",
          "name": "stdout",
          "text": [
            "На известных данных\n",
            "Количество точек в первом / втором кластере: 97 (мутаций из них 74) / 2 (мутаций из них 0)\n",
            "Количество в оригинальном датасете: 74 / 25\n",
            "\n",
            "На неизвестных данных\n",
            "Количество точек в первом / втором кластере: 59 / 2\n"
          ]
        },
        {
          "output_type": "stream",
          "name": "stderr",
          "text": [
            "<ipython-input-23-111397b9bd06>:5: SettingWithCopyWarning: \n",
            "A value is trying to be set on a copy of a slice from a DataFrame.\n",
            "Try using .loc[row_indexer,col_indexer] = value instead\n",
            "\n",
            "See the caveats in the documentation: https://pandas.pydata.org/pandas-docs/stable/user_guide/indexing.html#returning-a-view-versus-a-copy\n",
            "  df_known['predict'] = y_pred\n"
          ]
        }
      ]
    },
    {
      "cell_type": "markdown",
      "source": [
        "# BIRCH"
      ],
      "metadata": {
        "id": "D_CpsZiSVCvQ"
      }
    },
    {
      "cell_type": "code",
      "source": [
        "df_known_no_label = df_known.drop(df.columns[-2:], axis=1)\n",
        "df_unknown_no_label = df_unknown.drop(df.columns[-2:], axis=1)\n",
        "df_known = df.loc[df['mutation'].isin([1, 0])]"
      ],
      "metadata": {
        "id": "ZXkkGpcEVEMA"
      },
      "execution_count": 24,
      "outputs": []
    },
    {
      "cell_type": "code",
      "source": [
        "from sklearn.cluster import Birch\n",
        "scaled_df = StandardScaler().fit_transform(df_known_no_label)\n",
        "\n",
        "# Используем метод локтя для определения оптимального числа кластеров\n",
        "sse = []\n",
        "silhouette_scores = []\n",
        "for k in range(2, 6):\n",
        "    birch_clustering = Birch(n_clusters=k)\n",
        "    y_pred = birch_clustering.fit_predict(scaled_df)\n",
        "    silhouette_scores.append(silhouette_score(scaled_df, y_pred))\n",
        "\n",
        "plt.plot(range(2, 6), silhouette_scores, marker='o')\n",
        "plt.xlabel('Number of Clusters')\n",
        "plt.ylabel('Silhouette Score')\n",
        "plt.title('Silhouette Score for Optimal Number of Clusters')\n",
        "plt.grid(True)\n",
        "plt.show()"
      ],
      "metadata": {
        "colab": {
          "base_uri": "https://localhost:8080/",
          "height": 472
        },
        "id": "5n8_cazPVRoh",
        "outputId": "606019fa-ddf3-4626-d2b4-7dc4e9088370"
      },
      "execution_count": 25,
      "outputs": [
        {
          "output_type": "display_data",
          "data": {
            "text/plain": [
              "<Figure size 640x480 with 1 Axes>"
            ],
            "image/png": "[encoded data removed]"
          },
          "metadata": {}
        }
      ]
    },
    {
      "cell_type": "code",
      "source": [
        "scale = StandardScaler().fit(df_known_no_label)\n",
        "scaled_df = scale.transform(df_known_no_label)\n",
        "# scaled_df = df_known_no_label\n",
        "birch_clustering = Birch(n_clusters=2)\n",
        "y_pred = birch_clustering.fit_predict(scaled_df)\n",
        "count_cluster_0 = np.sum(y_pred == 0)\n",
        "count_cluster_1 = np.sum(y_pred == 1)\n",
        "df_known['predict'] = y_pred\n",
        "\n",
        "print(\"На известных данных\")\n",
        "count_first = df_known[(df_known['mutation'] == 1) & (df_known['predict'] == 0)].shape[0]\n",
        "count_second = df_known[(df_known['mutation'] == 1) & (df_known['predict'] == 1)].shape[0]\n",
        "print(f\"Количество точек в первом / втором кластере: {count_cluster_0} (мутаций из них {count_first}) / {count_cluster_1} (мутаций из них {count_second})\")\n",
        "print(f\"Количество в оригинальном датасете: {(df['mutation'] == 1).sum()} / {(df['mutation'] == 0).sum()}\")\n",
        "\n",
        "print(\"\\nНа неизвестных данных\")\n",
        "scaled_df = scale.transform(df_unknown_no_label)\n",
        "y_pred = birch_clustering.predict(scaled_df)\n",
        "count_cluster_0 = np.sum(y_pred == 0)\n",
        "count_cluster_1 = np.sum(y_pred == 1)\n",
        "print(f\"Количество точек в первом / втором кластере: {count_cluster_0} / {count_cluster_1}\")"
      ],
      "metadata": {
        "colab": {
          "base_uri": "https://localhost:8080/"
        },
        "id": "NS9iLJMLVV2i",
        "outputId": "1f65cf88-7e34-43f5-e1a4-4deba7a98f6f"
      },
      "execution_count": 28,
      "outputs": [
        {
          "output_type": "stream",
          "name": "stdout",
          "text": [
            "На известных данных\n",
            "Количество точек в первом / втором кластере: 81 (мутаций из них 60) / 18 (мутаций из них 14)\n",
            "Количество в оригинальном датасете: 74 / 25\n",
            "\n",
            "На неизвестных данных\n",
            "Количество точек в первом / втором кластере: 47 / 14\n"
          ]
        },
        {
          "output_type": "stream",
          "name": "stderr",
          "text": [
            "<ipython-input-28-cf7f72c52bec>:8: SettingWithCopyWarning: \n",
            "A value is trying to be set on a copy of a slice from a DataFrame.\n",
            "Try using .loc[row_indexer,col_indexer] = value instead\n",
            "\n",
            "See the caveats in the documentation: https://pandas.pydata.org/pandas-docs/stable/user_guide/indexing.html#returning-a-view-versus-a-copy\n",
            "  df_known['predict'] = y_pred\n"
          ]
        }
      ]
    },
    {
      "cell_type": "markdown",
      "source": [
        "# HDBSCAN"
      ],
      "metadata": {
        "id": "NsKKFaspVmK9"
      }
    },
    {
      "cell_type": "code",
      "source": [
        "!pip install hdbscan"
      ],
      "metadata": {
        "colab": {
          "base_uri": "https://localhost:8080/"
        },
        "id": "jM0p_2bhVmxY",
        "outputId": "fcf07bfb-995d-434e-b407-8995d135341f"
      },
      "execution_count": 29,
      "outputs": [
        {
          "output_type": "stream",
          "name": "stdout",
          "text": [
            "Collecting hdbscan\n",
            "  Downloading hdbscan-0.8.33.tar.gz (5.2 MB)\n",
            "\u001b[2K     \u001b[90m━━━━━━━━━━━━━━━━━━━━━━━━━━━━━━━━━━━━━━━━\u001b[0m \u001b[32m5.2/5.2 MB\u001b[0m \u001b[31m24.5 MB/s\u001b[0m eta \u001b[36m0:00:00\u001b[0m\n",
            "\u001b[?25h  Installing build dependencies ... \u001b[?25l\u001b[?25hdone\n",
            "  Getting requirements to build wheel ... \u001b[?25l\u001b[?25hdone\n",
            "  Preparing metadata (pyproject.toml) ... \u001b[?25l\u001b[?25hdone\n",
            "Collecting cython<3,>=0.27 (from hdbscan)\n",
            "  Using cached Cython-0.29.37-cp310-cp310-manylinux_2_17_x86_64.manylinux2014_x86_64.manylinux_2_24_x86_64.whl (1.9 MB)\n",
            "Requirement already satisfied: numpy>=1.20 in /usr/local/lib/python3.10/dist-packages (from hdbscan) (1.25.2)\n",
            "Requirement already satisfied: scipy>=1.0 in /usr/local/lib/python3.10/dist-packages (from hdbscan) (1.11.4)\n",
            "Requirement already satisfied: scikit-learn>=0.20 in /usr/local/lib/python3.10/dist-packages (from hdbscan) (1.2.2)\n",
            "Requirement already satisfied: joblib>=1.0 in /usr/local/lib/python3.10/dist-packages (from hdbscan) (1.4.2)\n",
            "Requirement already satisfied: threadpoolctl>=2.0.0 in /usr/local/lib/python3.10/dist-packages (from scikit-learn>=0.20->hdbscan) (3.5.0)\n",
            "Building wheels for collected packages: hdbscan\n",
            "  Building wheel for hdbscan (pyproject.toml) ... \u001b[?25l\u001b[?25hdone\n",
            "  Created wheel for hdbscan: filename=hdbscan-0.8.33-cp310-cp310-linux_x86_64.whl size=3039297 sha256=9b43adcc47a827d72588a02cdc12705560e299640185d41049eeb4fa03fb0f32\n",
            "  Stored in directory: /root/.cache/pip/wheels/75/0b/3b/dc4f60b7cc455efaefb62883a7483e76f09d06ca81cf87d610\n",
            "Successfully built hdbscan\n",
            "Installing collected packages: cython, hdbscan\n",
            "  Attempting uninstall: cython\n",
            "    Found existing installation: Cython 3.0.10\n",
            "    Uninstalling Cython-3.0.10:\n",
            "      Successfully uninstalled Cython-3.0.10\n",
            "Successfully installed cython-0.29.37 hdbscan-0.8.33\n"
          ]
        }
      ]
    },
    {
      "cell_type": "code",
      "source": [
        "df_known_no_label = df_known.drop(df.columns[-2:], axis=1)\n",
        "df_unknown_no_label = df_unknown.drop(df.columns[-2:], axis=1)\n",
        "df_known = df.loc[df['mutation'].isin([1, 0])]"
      ],
      "metadata": {
        "id": "-QyugYuRVYFr"
      },
      "execution_count": 30,
      "outputs": []
    },
    {
      "cell_type": "code",
      "source": [
        "import hdbscan\n",
        "#scaled_df = StandardScaler().fit_transform(df_known_no_label)\n",
        "scaled_df = df_known_no_label\n",
        "# Используем метод локтя для определения оптимального числа кластеров\n",
        "\n",
        "dbscan_cluster = hdbscan.HDBSCAN(min_cluster_size=5)\n",
        "y_pred = dbscan_cluster.fit_predict(scaled_df)\n",
        "print(y_pred)"
      ],
      "metadata": {
        "colab": {
          "base_uri": "https://localhost:8080/"
        },
        "id": "VEa_Y1B7Vx2o",
        "outputId": "9b6f6536-04c5-4358-e138-b98f77183b33"
      },
      "execution_count": 31,
      "outputs": [
        {
          "output_type": "stream",
          "name": "stdout",
          "text": [
            "[ 1  2 -1 -1  1 -1 -1  1 -1  1 -1 -1 -1 -1  2 -1 -1 -1  1  0 -1 -1  1  0\n",
            "  1 -1 -1 -1 -1  0 -1 -1 -1 -1 -1 -1  1 -1 -1  1  1  2 -1  1  1 -1 -1  1\n",
            " -1 -1 -1 -1 -1 -1  1  2  0 -1 -1 -1 -1 -1  1 -1 -1 -1 -1  2  1 -1  1 -1\n",
            " -1 -1  1 -1 -1  1  1 -1  2  1  1  1 -1 -1 -1  1 -1 -1  2  1 -1  0 -1  1\n",
            " -1  1 -1]\n"
          ]
        }
      ]
    },
    {
      "cell_type": "code",
      "source": [
        "from sklearn.cluster import DBSCAN\n",
        "scaled_df = StandardScaler().fit_transform(df_known_no_label)\n",
        "#scaled_df = df_known_no_label\n",
        "db = DBSCAN(eps=10, min_samples=10, metric='euclidean', metric_params=None, algorithm='brute', leaf_size=30, p=None, n_jobs=None).fit(scaled_df)\n",
        "labels = db.labels_\n",
        "print(labels)"
      ],
      "metadata": {
        "colab": {
          "base_uri": "https://localhost:8080/"
        },
        "id": "kIW56Fz2Vzs3",
        "outputId": "5e2ad99b-3d68-4c08-ee33-0f7413e62afe"
      },
      "execution_count": 32,
      "outputs": [
        {
          "output_type": "stream",
          "name": "stdout",
          "text": [
            "[ 0  0  0  0 -1  0  0  0  0  0  0  0  0  0  0  0  0  0  0  0 -1  0  0  0\n",
            "  0  0  0  0  0  0  0  0 -1  0  0  0  0  0  0  0  0  0  0  0  0  0  0  0\n",
            "  0 -1  0  0  0  0  0  0  0  0  0  0  0  0  0 -1  0  0  0  0  0  0  0  0\n",
            "  0  0  0  0  0  0  0  0  0  0  0  0  0  0  0  0  0 -1  0 -1  0  0  0  0\n",
            "  0  0 -1]\n"
          ]
        }
      ]
    },
    {
      "cell_type": "code",
      "source": [
        "df_known['predict'] = labels\n",
        "\n",
        "print(\"На известных данных\")\n",
        "count_cluster_0 = np.sum(labels == 0)\n",
        "count_cluster_1 = np.sum(labels == -1)\n",
        "count_first = df_known[(df_known['mutation'] == 1) & (df_known['predict'] == 0)].shape[0]\n",
        "count_second = df_known[(df_known['mutation'] == 1) & (df_known['predict'] == -1)].shape[0]\n",
        "print(f\"Количество точек в первом / втором кластере: {count_cluster_0} (мутаций из них {count_first}) / {count_cluster_1} (мутаций из них {count_second})\")"
      ],
      "metadata": {
        "colab": {
          "base_uri": "https://localhost:8080/"
        },
        "id": "G2XV-mb9V1XB",
        "outputId": "bf0c4095-acd2-454f-de8a-6e0c221373c4"
      },
      "execution_count": 33,
      "outputs": [
        {
          "output_type": "stream",
          "name": "stdout",
          "text": [
            "На известных данных\n",
            "Количество точек в первом / втором кластере: 91 (мутаций из них 69) / 8 (мутаций из них 5)\n"
          ]
        },
        {
          "output_type": "stream",
          "name": "stderr",
          "text": [
            "<ipython-input-33-c252f789b7c3>:1: SettingWithCopyWarning: \n",
            "A value is trying to be set on a copy of a slice from a DataFrame.\n",
            "Try using .loc[row_indexer,col_indexer] = value instead\n",
            "\n",
            "See the caveats in the documentation: https://pandas.pydata.org/pandas-docs/stable/user_guide/indexing.html#returning-a-view-versus-a-copy\n",
            "  df_known['predict'] = labels\n"
          ]
        }
      ]
    },
    {
      "cell_type": "markdown",
      "source": [
        "# OPTICS"
      ],
      "metadata": {
        "id": "4sr5Dza3WRrn"
      }
    },
    {
      "cell_type": "code",
      "source": [
        "df_known_no_label = df_known.drop(df.columns[-2:], axis=1)\n",
        "df_unknown_no_label = df_unknown.drop(df.columns[-2:], axis=1)"
      ],
      "metadata": {
        "id": "mloKHtmHWSD1"
      },
      "execution_count": 34,
      "outputs": []
    },
    {
      "cell_type": "code",
      "source": [
        "from sklearn.cluster import OPTICS\n",
        "df_all_no_label = df.drop(df.columns[-2:], axis=1)\n",
        "\n",
        "#scaled_df = StandardScaler().fit_transform(df_all_no_label)\n",
        "scaled_df = df_all_no_label\n",
        "optics_clustering = OPTICS(min_samples=5, max_eps=np.inf)\n",
        "\n",
        "# Предсказываем кластеры\n",
        "y_pred = optics_clustering.fit_predict(scaled_df)\n",
        "print(y_pred)"
      ],
      "metadata": {
        "colab": {
          "base_uri": "https://localhost:8080/"
        },
        "id": "-eezYNIuWTw1",
        "outputId": "bd6e50cd-21f4-4e36-d67b-1a982820cb8e"
      },
      "execution_count": 35,
      "outputs": [
        {
          "output_type": "stream",
          "name": "stdout",
          "text": [
            "[-1 -1  4 -1 -1 -1 -1 -1 -1 -1 -1 -1 -1 -1  2 -1 -1 -1  1 -1 -1 -1  1  3\n",
            "  1 -1 -1 -1 -1  3 -1 -1 -1 -1  5 -1  1  4 -1 -1  1  2 -1 -1 -1 -1  4 -1\n",
            " -1 -1  4  4 -1 -1 -1  2  3  5 -1  5 -1 -1 -1 -1 -1 -1 -1 -1 -1 -1  1  3\n",
            " -1 -1  0 -1 -1  0  1 -1  2  0 -1  0  4 -1 -1 -1 -1 -1 -1 -1 -1  3 -1 -1\n",
            " -1 -1 -1  4 -1  0  1  0 -1 -1 -1  0 -1  1  3  4 -1 -1 -1 -1 -1  1 -1 -1\n",
            " -1 -1 -1 -1 -1 -1 -1 -1 -1 -1  5 -1 -1 -1 -1 -1 -1 -1 -1 -1 -1 -1 -1 -1\n",
            " -1 -1  5 -1 -1  2 -1  3 -1 -1 -1  1 -1 -1 -1 -1]\n"
          ]
        }
      ]
    }
  ]
}